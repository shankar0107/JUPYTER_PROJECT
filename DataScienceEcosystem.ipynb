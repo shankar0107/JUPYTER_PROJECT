{
 "cells": [
  {
   "cell_type": "markdown",
   "id": "d39a1117",
   "metadata": {},
   "source": [
    "#Data Science Tools and Ecosystem"
   ]
  },
  {
   "cell_type": "markdown",
   "id": "2ab49eed",
   "metadata": {},
   "source": [
    "#In this notebook, Data Science Tools and Ecosystem are summarized.\n",
    "  \n",
    "  ***Objectives:***\n",
    "   \n",
    "   - List popular languages for Data Science\n",
    "   - List of libraries in Data Science\n",
    "   - R-studio,Git hub\n",
    "    "
   ]
  },
  {
   "cell_type": "markdown",
   "id": "7a708aec",
   "metadata": {},
   "source": [
    "#Some of the popular languages that Data Scientists use are:\n",
    " 1. python\n",
    " 2. R\n",
    " 3. SQL"
   ]
  },
  {
   "cell_type": "markdown",
   "id": "e717d76a",
   "metadata": {},
   "source": [
    "#Some of the commonly used libraries used by Data Scientists include:\n",
    "  1. pandas\n",
    "  2. numpy\n",
    "  3. scikit-learn"
   ]
  },
  {
   "cell_type": "markdown",
   "id": "52463d8e",
   "metadata": {},
   "source": [
    "#Data Science Tools\n",
    "| DATA SCIENCE TOOLS | \n",
    "|----------|\n",
    "| JUPYTER NOTEBOOK |\n",
    "| GOOGLE-COLAB |\n",
    "| VISUAL STUDIO |\n"
   ]
  },
  {
   "cell_type": "markdown",
   "id": "17d2158e",
   "metadata": {},
   "source": [
    "#Below are a few examples of evaluating arithmetic expressions in Python."
   ]
  },
  {
   "cell_type": "code",
   "execution_count": 5,
   "id": "c16da16d",
   "metadata": {},
   "outputs": [
    {
     "data": {
      "text/plain": [
       "17"
      ]
     },
     "execution_count": 5,
     "metadata": {},
     "output_type": "execute_result"
    }
   ],
   "source": [
    "(3*4)+5"
   ]
  },
  {
   "cell_type": "code",
   "execution_count": 6,
   "id": "dd501f48",
   "metadata": {},
   "outputs": [
    {
     "data": {
      "text/plain": [
       "3.3333333333333335"
      ]
     },
     "execution_count": 6,
     "metadata": {},
     "output_type": "execute_result"
    }
   ],
   "source": [
    "#This will convert 200 minutes to hours by diving by 60\n",
    "200/60"
   ]
  },
  {
   "cell_type": "markdown",
   "id": "d16705c7",
   "metadata": {},
   "source": [
    "## Author\n",
    "    SHANKAR\n",
    "    "
   ]
  },
  {
   "cell_type": "code",
   "execution_count": null,
   "id": "83868b60",
   "metadata": {},
   "outputs": [],
   "source": []
  }
 ],
 "metadata": {
  "kernelspec": {
   "display_name": "Python 3 (ipykernel)",
   "language": "python",
   "name": "python3"
  },
  "language_info": {
   "codemirror_mode": {
    "name": "ipython",
    "version": 3
   },
   "file_extension": ".py",
   "mimetype": "text/x-python",
   "name": "python",
   "nbconvert_exporter": "python",
   "pygments_lexer": "ipython3",
   "version": "3.11.4"
  }
 },
 "nbformat": 4,
 "nbformat_minor": 5
}
